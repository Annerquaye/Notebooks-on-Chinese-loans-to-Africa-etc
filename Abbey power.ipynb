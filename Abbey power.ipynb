{
 "cells": [
  {
   "cell_type": "markdown",
   "id": "8d532d66",
   "metadata": {},
   "source": [
    "# Power Plants\n",
    "\n",
    "* **Data:** `powerplants.csv`\n",
    "* **Columns of interest:**\n",
    "    * `Plant_Name` is the name of the power plant\n",
    "    * `Utility_Na` is the name of the owner of the power plant\n",
    "    * `City`, `County`, `StateName`, `Zip`\n",
    "    * `PrimSource` is what kind of energy source it uses (nuclear, coal, etc)\n",
    "    * `Total_MW` is the total amount of energy produces"
   ]
  },
  {
   "cell_type": "markdown",
   "id": "2a954687",
   "metadata": {},
   "source": [
    "## Read in the data"
   ]
  },
  {
   "cell_type": "code",
   "execution_count": 224,
   "id": "d32c3000",
   "metadata": {},
   "outputs": [],
   "source": [
    "import pandas as pd\n",
    "pd.set_option(\"display.max_columns\", None)\n",
    "pd.set_option(\"display.float_format\", '{:,}'.format)\n",
    "df = pd.read_csv(\"powerplants.csv\")"
   ]
  },
  {
   "cell_type": "code",
   "execution_count": 225,
   "id": "bc2d8e21",
   "metadata": {},
   "outputs": [],
   "source": [
    "df.columns = df.columns.str.lower().str.replace(\" \", \"_\")"
   ]
  },
  {
   "cell_type": "markdown",
   "id": "07743f11",
   "metadata": {},
   "source": [
    "## What are the different types of energy sources in this dataset?"
   ]
  },
  {
   "cell_type": "code",
   "execution_count": 226,
   "id": "141d5afd",
   "metadata": {},
   "outputs": [
    {
     "data": {
      "text/plain": [
       "solar             2255\n",
       "natural gas       1701\n",
       "hydroelectric     1410\n",
       "wind              1043\n",
       "petroleum          842\n",
       "biomass            726\n",
       "coal               337\n",
       "other              140\n",
       "geothermal          66\n",
       "nuclear             61\n",
       "pumped storage      35\n",
       "Name: primsource, dtype: int64"
      ]
     },
     "execution_count": 226,
     "metadata": {},
     "output_type": "execute_result"
    }
   ],
   "source": [
    "df.primsource.value_counts()"
   ]
  },
  {
   "cell_type": "markdown",
   "id": "b8f99b09",
   "metadata": {},
   "source": [
    "## What is the most common type of power plant in the United States?"
   ]
  },
  {
   "cell_type": "code",
   "execution_count": 227,
   "id": "21cc3608",
   "metadata": {},
   "outputs": [
    {
     "data": {
      "text/plain": [
       "Consumer Operations LLC           2\n",
       "Kelford                           2\n",
       "Halifax                           2\n",
       "High Plains                       2\n",
       "Bear Creek Solar                  2\n",
       "                                 ..\n",
       "Cougar Solar, LLC                 1\n",
       "Creston Ridge II, LLC             1\n",
       "RJC II Community Solar Garden     1\n",
       "Betcher Community Solar Garden    1\n",
       "NCSU Cates Cogeneration Plant     1\n",
       "Name: plant_name, Length: 8606, dtype: int64"
      ]
     },
     "execution_count": 227,
     "metadata": {},
     "output_type": "execute_result"
    }
   ],
   "source": [
    "df.plant_name.value_counts().sort_values(ascending=False)"
   ]
  },
  {
   "cell_type": "markdown",
   "id": "30e1410c",
   "metadata": {},
   "source": [
    "## Make a graph of it, with the longest bar on the top."
   ]
  },
  {
   "cell_type": "code",
   "execution_count": 228,
   "id": "282ea8ef",
   "metadata": {},
   "outputs": [
    {
     "data": {
      "text/plain": [
       "<AxesSubplot:>"
      ]
     },
     "execution_count": 228,
     "metadata": {},
     "output_type": "execute_result"
    },
    {
     "data": {
      "image/png": "[encoded data removed]",
      "text/plain": [
       "<Figure size 432x288 with 1 Axes>"
      ]
     },
     "metadata": {
      "needs_background": "light"
     },
     "output_type": "display_data"
    }
   ],
   "source": [
    "df.plant_name.value_counts().sort_values(ascending=False).head().plot(kind='barh')\n",
    "\n",
    "# df.primsource.value_counts().sort_values().plot(kind='barh')"
   ]
  },
  {
   "cell_type": "markdown",
   "id": "cdbcf52f",
   "metadata": {},
   "source": [
    "## What type of power plant produces the most energy in the United States?"
   ]
  },
  {
   "cell_type": "code",
   "execution_count": 232,
   "id": "027eecbe",
   "metadata": {},
   "outputs": [
    {
     "data": {
      "text/plain": [
       "primsource\n",
       "solar            2255\n",
       "natural gas      1701\n",
       "hydroelectric    1410\n",
       "wind             1043\n",
       "petroleum         842\n",
       "Name: total_mw, dtype: int64"
      ]
     },
     "execution_count": 232,
     "metadata": {},
     "output_type": "execute_result"
    }
   ],
   "source": [
    "df.groupby(by='primsource').total_mw.size().sort_values(ascending=False).head()"
   ]
  },
  {
   "cell_type": "markdown",
   "id": "1a3c1d5e",
   "metadata": {},
   "source": [
    "## Make a graph of it, with the longest bar on the top."
   ]
  },
  {
   "cell_type": "code",
   "execution_count": 230,
   "id": "a09a6d80",
   "metadata": {},
   "outputs": [
    {
     "data": {
      "text/plain": [
       "<AxesSubplot:ylabel='primsource'>"
      ]
     },
     "execution_count": 230,
     "metadata": {},
     "output_type": "execute_result"
    },
    {
     "data": {
      "image/png": "[encoded data removed]",
      "text/plain": [
       "<Figure size 432x288 with 1 Axes>"
      ]
     },
     "metadata": {
      "needs_background": "light"
     },
     "output_type": "display_data"
    }
   ],
   "source": [
    "df.groupby(by='primsource').total_mw.size().head().sort_values().plot(kind='barh')"
   ]
  },
  {
   "cell_type": "markdown",
   "id": "6205e138",
   "metadata": {},
   "source": [
    "## What US state has the most power plants?"
   ]
  },
  {
   "cell_type": "code",
   "execution_count": 231,
   "id": "50ba22a6",
   "metadata": {},
   "outputs": [
    {
     "data": {
      "text/plain": [
       "California        1344\n",
       "North Carolina     626\n",
       "Texas              431\n",
       "New York           407\n",
       "Minnesota          366\n",
       "Name: statename, dtype: int64"
      ]
     },
     "execution_count": 231,
     "metadata": {},
     "output_type": "execute_result"
    }
   ],
   "source": [
    "df.statename.value_counts().sort_values(ascending=False).head()"
   ]
  },
  {
   "cell_type": "markdown",
   "id": "57d07f78",
   "metadata": {},
   "source": [
    "## What three US states produce the most energy?"
   ]
  },
  {
   "cell_type": "code",
   "execution_count": 129,
   "id": "903b8cec",
   "metadata": {},
   "outputs": [
    {
     "data": {
      "text/plain": [
       "statename\n",
       "California    1344\n",
       "Alaska         145\n",
       "Arizona        129\n",
       "Name: total_mw, dtype: int64"
      ]
     },
     "execution_count": 129,
     "metadata": {},
     "output_type": "execute_result"
    }
   ],
   "source": [
    "df.groupby('statename').total_mw.size().head().sort_values(ascending=False).head(3)"
   ]
  },
  {
   "cell_type": "code",
   "execution_count": 130,
   "id": "15af7570",
   "metadata": {},
   "outputs": [],
   "source": [
    "# df.groupby('statename').total_mw.size() \\\n",
    "#     .groupby(level=0, group_keys=False) \\\n",
    "#     .nlargest(3)"
   ]
  },
  {
   "cell_type": "markdown",
   "id": "a9c597a5",
   "metadata": {},
   "source": [
    "## What state has the most coal power plants?"
   ]
  },
  {
   "cell_type": "code",
   "execution_count": 136,
   "id": "44124416",
   "metadata": {},
   "outputs": [
    {
     "data": {
      "text/plain": [
       "Illinois        21\n",
       "Pennsylvania    21\n",
       "Texas           18\n",
       "Indiana         17\n",
       "Iowa            15\n",
       "Name: statename, dtype: int64"
      ]
     },
     "execution_count": 136,
     "metadata": {},
     "output_type": "execute_result"
    }
   ],
   "source": [
    "coal = df[df.primsource == 'coal']\n",
    "\n",
    "coal.statename.value_counts().sort_values(ascending=False).head()"
   ]
  },
  {
   "cell_type": "markdown",
   "id": "2b36fa02",
   "metadata": {},
   "source": [
    "## What state produces the most energy using solar power?"
   ]
  },
  {
   "cell_type": "code",
   "execution_count": 172,
   "id": "d3082fcc",
   "metadata": {},
   "outputs": [],
   "source": [
    "solar = df[df.primsource == 'solar']\n",
    "# statename.sort_values(ascending=False).head()\n"
   ]
  },
  {
   "cell_type": "markdown",
   "id": "1809e8a1",
   "metadata": {},
   "source": [
    "## List all of the nuclear powerplants in New York."
   ]
  },
  {
   "cell_type": "code",
   "execution_count": 234,
   "id": "75aba10e",
   "metadata": {},
   "outputs": [
    {
     "data": {
      "text/html": [
       "<div>\n",
       "<style scoped>\n",
       "    .dataframe tbody tr th:only-of-type {\n",
       "        vertical-align: middle;\n",
       "    }\n",
       "\n",
       "    .dataframe tbody tr th {\n",
       "        vertical-align: top;\n",
       "    }\n",
       "\n",
       "    .dataframe thead th {\n",
       "        text-align: right;\n",
       "    }\n",
       "</style>\n",
       "<table border=\"1\" class=\"dataframe\">\n",
       "  <thead>\n",
       "    <tr style=\"text-align: right;\">\n",
       "      <th></th>\n",
       "      <th>plant_code</th>\n",
       "      <th>plant_name</th>\n",
       "      <th>utility_na</th>\n",
       "      <th>utility_id</th>\n",
       "      <th>sector_nam</th>\n",
       "      <th>city</th>\n",
       "      <th>county</th>\n",
       "      <th>statename</th>\n",
       "      <th>zip</th>\n",
       "      <th>street_add</th>\n",
       "      <th>primsource</th>\n",
       "      <th>install_mw</th>\n",
       "      <th>total_mw</th>\n",
       "      <th>coal_mw</th>\n",
       "      <th>ng_mw</th>\n",
       "      <th>crude_mw</th>\n",
       "      <th>bio_mw</th>\n",
       "      <th>hydro_mw</th>\n",
       "      <th>hydrops_mw</th>\n",
       "      <th>nuclear_mw</th>\n",
       "      <th>solar_mw</th>\n",
       "      <th>wind_mw</th>\n",
       "      <th>geo_mw</th>\n",
       "      <th>other_mw</th>\n",
       "      <th>source_des</th>\n",
       "      <th>tech_desc</th>\n",
       "      <th>source</th>\n",
       "      <th>period</th>\n",
       "      <th>latitude</th>\n",
       "      <th>longitude</th>\n",
       "    </tr>\n",
       "  </thead>\n",
       "  <tbody>\n",
       "    <tr>\n",
       "      <th>1155</th>\n",
       "      <td>2497</td>\n",
       "      <td>Indian Point 2</td>\n",
       "      <td>Entergy Nuclear Indian Point 2</td>\n",
       "      <td>6027</td>\n",
       "      <td>IPP Non-CHP</td>\n",
       "      <td>Buchanan</td>\n",
       "      <td>Westchester</td>\n",
       "      <td>New York</td>\n",
       "      <td>10511</td>\n",
       "      <td>Broadway &amp; Bleakley Ave</td>\n",
       "      <td>nuclear</td>\n",
       "      <td>1,299.0</td>\n",
       "      <td>1,000.4</td>\n",
       "      <td>0.0</td>\n",
       "      <td>0.0</td>\n",
       "      <td>0.0</td>\n",
       "      <td>NaN</td>\n",
       "      <td>0.0</td>\n",
       "      <td>0.0</td>\n",
       "      <td>1,000.4</td>\n",
       "      <td>0.0</td>\n",
       "      <td>0.0</td>\n",
       "      <td>NaN</td>\n",
       "      <td>0.0</td>\n",
       "      <td>Nuclear = 1000.4 MW</td>\n",
       "      <td>Nuclear</td>\n",
       "      <td>EIA-860, EIA-860M and EIA-923</td>\n",
       "      <td>201801</td>\n",
       "      <td>41.270556</td>\n",
       "      <td>-73.9527</td>\n",
       "    </tr>\n",
       "    <tr>\n",
       "      <th>1213</th>\n",
       "      <td>2589</td>\n",
       "      <td>Nine Mile Point Nuclear Station</td>\n",
       "      <td>Exelon Nuclear</td>\n",
       "      <td>55951</td>\n",
       "      <td>IPP Non-CHP</td>\n",
       "      <td>Lycoming</td>\n",
       "      <td>Oswego</td>\n",
       "      <td>New York</td>\n",
       "      <td>13093</td>\n",
       "      <td>PO Box 63</td>\n",
       "      <td>nuclear</td>\n",
       "      <td>1,901.1</td>\n",
       "      <td>1,916.0</td>\n",
       "      <td>0.0</td>\n",
       "      <td>0.0</td>\n",
       "      <td>0.0</td>\n",
       "      <td>NaN</td>\n",
       "      <td>0.0</td>\n",
       "      <td>0.0</td>\n",
       "      <td>1,916.0</td>\n",
       "      <td>0.0</td>\n",
       "      <td>0.0</td>\n",
       "      <td>NaN</td>\n",
       "      <td>0.0</td>\n",
       "      <td>Nuclear = 1916 MW</td>\n",
       "      <td>Nuclear</td>\n",
       "      <td>EIA-860, EIA-860M and EIA-923</td>\n",
       "      <td>201801</td>\n",
       "      <td>43.5211</td>\n",
       "      <td>-76.41</td>\n",
       "    </tr>\n",
       "    <tr>\n",
       "      <th>1861</th>\n",
       "      <td>6110</td>\n",
       "      <td>James A Fitzpatrick</td>\n",
       "      <td>Exelon Nuclear</td>\n",
       "      <td>55951</td>\n",
       "      <td>IPP Non-CHP</td>\n",
       "      <td>Lycoming</td>\n",
       "      <td>Oswego</td>\n",
       "      <td>New York</td>\n",
       "      <td>13093</td>\n",
       "      <td>Lake Road</td>\n",
       "      <td>nuclear</td>\n",
       "      <td>883.3</td>\n",
       "      <td>851.0</td>\n",
       "      <td>0.0</td>\n",
       "      <td>0.0</td>\n",
       "      <td>0.0</td>\n",
       "      <td>NaN</td>\n",
       "      <td>0.0</td>\n",
       "      <td>0.0</td>\n",
       "      <td>851.0</td>\n",
       "      <td>0.0</td>\n",
       "      <td>0.0</td>\n",
       "      <td>NaN</td>\n",
       "      <td>0.0</td>\n",
       "      <td>Nuclear = 851 MW</td>\n",
       "      <td>Nuclear</td>\n",
       "      <td>EIA-860, EIA-860M and EIA-923</td>\n",
       "      <td>201801</td>\n",
       "      <td>43.52139</td>\n",
       "      <td>-76.408394</td>\n",
       "    </tr>\n",
       "    <tr>\n",
       "      <th>1868</th>\n",
       "      <td>6122</td>\n",
       "      <td>R E Ginna Nuclear Power Plant</td>\n",
       "      <td>Exelon Nuclear</td>\n",
       "      <td>55951</td>\n",
       "      <td>IPP Non-CHP</td>\n",
       "      <td>Ontario</td>\n",
       "      <td>Wayne</td>\n",
       "      <td>New York</td>\n",
       "      <td>14519</td>\n",
       "      <td>Lake Rd.</td>\n",
       "      <td>nuclear</td>\n",
       "      <td>614.0</td>\n",
       "      <td>582.0</td>\n",
       "      <td>0.0</td>\n",
       "      <td>0.0</td>\n",
       "      <td>0.0</td>\n",
       "      <td>NaN</td>\n",
       "      <td>0.0</td>\n",
       "      <td>0.0</td>\n",
       "      <td>582.0</td>\n",
       "      <td>0.0</td>\n",
       "      <td>0.0</td>\n",
       "      <td>NaN</td>\n",
       "      <td>0.0</td>\n",
       "      <td>Nuclear = 582 MW</td>\n",
       "      <td>Nuclear</td>\n",
       "      <td>EIA-860, EIA-860M and EIA-923</td>\n",
       "      <td>201801</td>\n",
       "      <td>43.2777</td>\n",
       "      <td>-77.3099</td>\n",
       "    </tr>\n",
       "    <tr>\n",
       "      <th>2536</th>\n",
       "      <td>8907</td>\n",
       "      <td>Indian Point 3</td>\n",
       "      <td>Entergy Nuclear Indian Point 3</td>\n",
       "      <td>6028</td>\n",
       "      <td>IPP Non-CHP</td>\n",
       "      <td>Buchanan</td>\n",
       "      <td>Westchester</td>\n",
       "      <td>New York</td>\n",
       "      <td>10511</td>\n",
       "      <td>Broadway Bleakley Avenue</td>\n",
       "      <td>nuclear</td>\n",
       "      <td>1,012.0</td>\n",
       "      <td>1,041.3</td>\n",
       "      <td>0.0</td>\n",
       "      <td>0.0</td>\n",
       "      <td>0.0</td>\n",
       "      <td>NaN</td>\n",
       "      <td>0.0</td>\n",
       "      <td>0.0</td>\n",
       "      <td>1,041.3</td>\n",
       "      <td>0.0</td>\n",
       "      <td>0.0</td>\n",
       "      <td>NaN</td>\n",
       "      <td>0.0</td>\n",
       "      <td>Nuclear = 1041.3 MW</td>\n",
       "      <td>Nuclear</td>\n",
       "      <td>EIA-860, EIA-860M and EIA-923</td>\n",
       "      <td>201801</td>\n",
       "      <td>41.2706</td>\n",
       "      <td>-73.9526</td>\n",
       "    </tr>\n",
       "  </tbody>\n",
       "</table>\n",
       "</div>"
      ],
      "text/plain": [
       "      plant_code                       plant_name  \\\n",
       "1155        2497                   Indian Point 2   \n",
       "1213        2589  Nine Mile Point Nuclear Station   \n",
       "1861        6110              James A Fitzpatrick   \n",
       "1868        6122    R E Ginna Nuclear Power Plant   \n",
       "2536        8907                   Indian Point 3   \n",
       "\n",
       "                          utility_na  utility_id   sector_nam      city  \\\n",
       "1155  Entergy Nuclear Indian Point 2        6027  IPP Non-CHP  Buchanan   \n",
       "1213                  Exelon Nuclear       55951  IPP Non-CHP  Lycoming   \n",
       "1861                  Exelon Nuclear       55951  IPP Non-CHP  Lycoming   \n",
       "1868                  Exelon Nuclear       55951  IPP Non-CHP   Ontario   \n",
       "2536  Entergy Nuclear Indian Point 3        6028  IPP Non-CHP  Buchanan   \n",
       "\n",
       "           county statename    zip                street_add primsource  \\\n",
       "1155  Westchester  New York  10511   Broadway & Bleakley Ave    nuclear   \n",
       "1213       Oswego  New York  13093                 PO Box 63    nuclear   \n",
       "1861       Oswego  New York  13093                 Lake Road    nuclear   \n",
       "1868        Wayne  New York  14519                  Lake Rd.    nuclear   \n",
       "2536  Westchester  New York  10511  Broadway Bleakley Avenue    nuclear   \n",
       "\n",
       "      install_mw  total_mw  coal_mw  ng_mw  crude_mw  bio_mw  hydro_mw  \\\n",
       "1155     1,299.0   1,000.4      0.0    0.0       0.0     NaN       0.0   \n",
       "1213     1,901.1   1,916.0      0.0    0.0       0.0     NaN       0.0   \n",
       "1861       883.3     851.0      0.0    0.0       0.0     NaN       0.0   \n",
       "1868       614.0     582.0      0.0    0.0       0.0     NaN       0.0   \n",
       "2536     1,012.0   1,041.3      0.0    0.0       0.0     NaN       0.0   \n",
       "\n",
       "      hydrops_mw  nuclear_mw  solar_mw  wind_mw  geo_mw  other_mw  \\\n",
       "1155         0.0     1,000.4       0.0      0.0     NaN       0.0   \n",
       "1213         0.0     1,916.0       0.0      0.0     NaN       0.0   \n",
       "1861         0.0       851.0       0.0      0.0     NaN       0.0   \n",
       "1868         0.0       582.0       0.0      0.0     NaN       0.0   \n",
       "2536         0.0     1,041.3       0.0      0.0     NaN       0.0   \n",
       "\n",
       "               source_des tech_desc                         source  period  \\\n",
       "1155  Nuclear = 1000.4 MW   Nuclear  EIA-860, EIA-860M and EIA-923  201801   \n",
       "1213    Nuclear = 1916 MW   Nuclear  EIA-860, EIA-860M and EIA-923  201801   \n",
       "1861     Nuclear = 851 MW   Nuclear  EIA-860, EIA-860M and EIA-923  201801   \n",
       "1868     Nuclear = 582 MW   Nuclear  EIA-860, EIA-860M and EIA-923  201801   \n",
       "2536  Nuclear = 1041.3 MW   Nuclear  EIA-860, EIA-860M and EIA-923  201801   \n",
       "\n",
       "      latitude  longitude  \n",
       "1155 41.270556   -73.9527  \n",
       "1213   43.5211     -76.41  \n",
       "1861  43.52139 -76.408394  \n",
       "1868   43.2777   -77.3099  \n",
       "2536   41.2706   -73.9526  "
      ]
     },
     "execution_count": 234,
     "metadata": {},
     "output_type": "execute_result"
    }
   ],
   "source": [
    "df[(df.statename == 'New York') & (df.primsource == 'nuclear')]\n",
    "                                  \n",
    "\n",
    "# # df[df.agency == 'NYPD'].groupby('complaint_type') \\\n",
    "# #     .time_to_fix.median().sort_values()"
   ]
  },
  {
   "cell_type": "code",
   "execution_count": 233,
   "id": "020fed84",
   "metadata": {},
   "outputs": [],
   "source": [
    "# "
   ]
  },
  {
   "cell_type": "markdown",
   "id": "a865c0ce",
   "metadata": {},
   "source": [
    "## What is the most common type of powerplant in New Jersey?"
   ]
  },
  {
   "cell_type": "code",
   "execution_count": 240,
   "id": "28016666",
   "metadata": {},
   "outputs": [
    {
     "data": {
      "text/plain": [
       "solar          183\n",
       "natural gas     48\n",
       "biomass         16\n",
       "petroleum        4\n",
       "nuclear          3\n",
       "Name: primsource, dtype: int64"
      ]
     },
     "execution_count": 240,
     "metadata": {},
     "output_type": "execute_result"
    }
   ],
   "source": [
    "nj_power = df[df.statename == 'New Jersey']\n",
    "nj_power.primsource.value_counts().head()"
   ]
  },
  {
   "cell_type": "markdown",
   "id": "d59391ef",
   "metadata": {},
   "source": [
    "## What type of power plant produces the most power in New Jersey?"
   ]
  },
  {
   "cell_type": "code",
   "execution_count": null,
   "id": "1d36be1e",
   "metadata": {},
   "outputs": [],
   "source": []
  },
  {
   "cell_type": "code",
   "execution_count": null,
   "id": "1cfcccda",
   "metadata": {},
   "outputs": [],
   "source": []
  }
 ],
 "metadata": {
  "kernelspec": {
   "display_name": "Python 3 (ipykernel)",
   "language": "python",
   "name": "python3"
  },
  "language_info": {
   "codemirror_mode": {
    "name": "ipython",
    "version": 3
   },
   "file_extension": ".py",
   "mimetype": "text/x-python",
   "name": "python",
   "nbconvert_exporter": "python",
   "pygments_lexer": "ipython3",
   "version": "3.9.7"
  }
 },
 "nbformat": 4,
 "nbformat_minor": 5
}
