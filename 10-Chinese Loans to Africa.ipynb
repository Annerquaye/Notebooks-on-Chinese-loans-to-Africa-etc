{
 "cells": [
  {
   "cell_type": "markdown",
   "id": "98174bb9",
   "metadata": {},
   "source": [
    "# Chinese Loans to Africa\n",
    "\n",
    "* **Data:** `china-loans-to-africa.csv`\n",
    "* **Description:** A database of loans made between Chinese financiers and African recipients\n",
    "* **Source:** https://www.bu.edu/gdp/research/databases/global-china-databases/#Chinese-Loans\n",
    "* **Columns of interest:**\n",
    "    * `year` is the year of the loan\n",
    "    * `country` is the country of the loan recipient\n",
    "    * `region` is the region of Africa (CA = Central, EA = Eastern, etc). Note that `RG` is regional investment.\n",
    "    * `borrowerNotGouv` is the recipient of the loan\n",
    "    * `financier` is the (Chinese) source of the loan\n",
    "    * `cleanUSD` is the reported value converted to US dollars\n",
    "    * `purpose` is a description of what the loan is for\n",
    "\n",
    "Note that questions like \"What country has received the most loans from China?\" are an inaccurate way to portray the loans because the government of the country wasn't the loan recipient. Additionally, reports of these loans are collected by an organization, not released by an official source, so there are a thousand and one additional caveats about trusting the data. But I think generally you should be able to understand what I mean by my questions."
   ]
  },
  {
   "cell_type": "markdown",
   "id": "98cc2ea4",
   "metadata": {},
   "source": [
    "## Read in your data"
   ]
  },
  {
   "cell_type": "code",
   "execution_count": 3,
   "id": "d82f38ea",
   "metadata": {},
   "outputs": [
    {
     "name": "stderr",
     "output_type": "stream",
     "text": [
      "/Users/richardabbey/.pyenv/versions/3.9.7/lib/python3.9/site-packages/pandas/compat/__init__.py:124: UserWarning: Could not import the lzma module. Your installed Python is incomplete. Attempting to use lzma compression will result in a RuntimeError.\n",
      "  warnings.warn(msg)\n"
     ]
    }
   ],
   "source": [
    "import pandas as pd\n",
    "pd.set_option(\"display.max_columns\", None)\n",
    "pd.set_option(\"display.float_format\", '{:,.2f}'.format)"
   ]
  },
  {
   "cell_type": "code",
   "execution_count": 4,
   "id": "a6786b93",
   "metadata": {},
   "outputs": [],
   "source": [
    "df = pd.read_csv(\"china-loans-to-africa.csv\")"
   ]
  },
  {
   "cell_type": "markdown",
   "id": "e87d0158",
   "metadata": {},
   "source": [
    "## What country has received the most loans from China?"
   ]
  },
  {
   "cell_type": "code",
   "execution_count": 5,
   "id": "a46f3ebf",
   "metadata": {},
   "outputs": [
    {
     "data": {
      "text/plain": [
       "Angola                          254\n",
       "Zambia                           78\n",
       "Sudan                            67\n",
       "Democratic Republic of Congo     55\n",
       "Ethiopia                         52\n",
       "Name: country, dtype: int64"
      ]
     },
     "execution_count": 5,
     "metadata": {},
     "output_type": "execute_result"
    }
   ],
   "source": [
    "#Counting the countries in the country column to identify which showed up most\n",
    "df.country.value_counts().head()"
   ]
  },
  {
   "cell_type": "markdown",
   "id": "f6382b51",
   "metadata": {},
   "source": [
    "## What is the total amount of Chinese loans to African governments/organizations, in US dollars?\n",
    "\n",
    "Write out the total amount in a comment, as `The total amount of loans is $____`. Note that the column is in **millions**."
   ]
  },
  {
   "cell_type": "code",
   "execution_count": 7,
   "id": "60a5d8e2",
   "metadata": {},
   "outputs": [
    {
     "data": {
      "text/plain": [
       "153233"
      ]
     },
     "execution_count": 7,
     "metadata": {},
     "output_type": "execute_result"
    }
   ],
   "source": [
    "#The sum provides the total amount of USD loans issued.\n",
    "df.cleanUSD.sum()"
   ]
  },
  {
   "cell_type": "code",
   "execution_count": 8,
   "id": "296f41d9",
   "metadata": {},
   "outputs": [
    {
     "data": {
      "text/html": [
       "<div>\n",
       "<style scoped>\n",
       "    .dataframe tbody tr th:only-of-type {\n",
       "        vertical-align: middle;\n",
       "    }\n",
       "\n",
       "    .dataframe tbody tr th {\n",
       "        vertical-align: top;\n",
       "    }\n",
       "\n",
       "    .dataframe thead th {\n",
       "        text-align: right;\n",
       "    }\n",
       "</style>\n",
       "<table border=\"1\" class=\"dataframe\">\n",
       "  <thead>\n",
       "    <tr style=\"text-align: right;\">\n",
       "      <th></th>\n",
       "      <th>status</th>\n",
       "      <th>year</th>\n",
       "      <th>country</th>\n",
       "      <th>region</th>\n",
       "      <th>borrowerCode</th>\n",
       "      <th>borrowerType</th>\n",
       "      <th>borrowerNotGouv</th>\n",
       "      <th>financier</th>\n",
       "      <th>financeType</th>\n",
       "      <th>group</th>\n",
       "      <th>reportedValue</th>\n",
       "      <th>reportedUnit</th>\n",
       "      <th>cleanUSD</th>\n",
       "      <th>interestRate</th>\n",
       "      <th>liborRate</th>\n",
       "      <th>repayment</th>\n",
       "      <th>grace</th>\n",
       "      <th>term</th>\n",
       "      <th>purpose</th>\n",
       "    </tr>\n",
       "  </thead>\n",
       "  <tbody>\n",
       "    <tr>\n",
       "      <th>0</th>\n",
       "      <td>Completed</td>\n",
       "      <td>2002</td>\n",
       "      <td>Angola</td>\n",
       "      <td>CA</td>\n",
       "      <td>NaN</td>\n",
       "      <td>NaN</td>\n",
       "      <td>Government</td>\n",
       "      <td>CIDCA</td>\n",
       "      <td>ZIL</td>\n",
       "      <td>1.00</td>\n",
       "      <td>50</td>\n",
       "      <td>CNY</td>\n",
       "      <td>6</td>\n",
       "      <td>0</td>\n",
       "      <td>NaN</td>\n",
       "      <td>NaN</td>\n",
       "      <td>NaN</td>\n",
       "      <td>NaN</td>\n",
       "      <td>Luanda Hospital</td>\n",
       "    </tr>\n",
       "    <tr>\n",
       "      <th>1</th>\n",
       "      <td>Signed</td>\n",
       "      <td>2003</td>\n",
       "      <td>Angola</td>\n",
       "      <td>CA</td>\n",
       "      <td>NaN</td>\n",
       "      <td>NaN</td>\n",
       "      <td>Government</td>\n",
       "      <td>CIDCA</td>\n",
       "      <td>ZIL</td>\n",
       "      <td>1.00</td>\n",
       "      <td>11</td>\n",
       "      <td>USD</td>\n",
       "      <td>11</td>\n",
       "      <td>0</td>\n",
       "      <td>NaN</td>\n",
       "      <td>NaN</td>\n",
       "      <td>NaN</td>\n",
       "      <td>NaN</td>\n",
       "      <td>Economic Housing Project</td>\n",
       "    </tr>\n",
       "    <tr>\n",
       "      <th>2</th>\n",
       "      <td>Completed</td>\n",
       "      <td>2005</td>\n",
       "      <td>Angola</td>\n",
       "      <td>CA</td>\n",
       "      <td>NaN</td>\n",
       "      <td>NaN</td>\n",
       "      <td>Government</td>\n",
       "      <td>Eximbank</td>\n",
       "      <td>FA-sub</td>\n",
       "      <td>1.00</td>\n",
       "      <td>41</td>\n",
       "      <td>USD</td>\n",
       "      <td>41</td>\n",
       "      <td>NaN</td>\n",
       "      <td>Libor + 1.5</td>\n",
       "      <td>NaN</td>\n",
       "      <td>5.00</td>\n",
       "      <td>17</td>\n",
       "      <td>Andulo, Bié and Caála, Huambo, Construction of...</td>\n",
       "    </tr>\n",
       "    <tr>\n",
       "      <th>3</th>\n",
       "      <td>Completed</td>\n",
       "      <td>2005</td>\n",
       "      <td>Angola</td>\n",
       "      <td>CA</td>\n",
       "      <td>NaN</td>\n",
       "      <td>NaN</td>\n",
       "      <td>Government</td>\n",
       "      <td>Eximbank</td>\n",
       "      <td>FA-sub</td>\n",
       "      <td>1.00</td>\n",
       "      <td>15</td>\n",
       "      <td>USD</td>\n",
       "      <td>15</td>\n",
       "      <td>NaN</td>\n",
       "      <td>Libor + 1.5</td>\n",
       "      <td>NaN</td>\n",
       "      <td>5.00</td>\n",
       "      <td>17</td>\n",
       "      <td>Quéssua, Malange, Agrarian Institute Rebuild</td>\n",
       "    </tr>\n",
       "    <tr>\n",
       "      <th>4</th>\n",
       "      <td>Completed</td>\n",
       "      <td>2005</td>\n",
       "      <td>Angola</td>\n",
       "      <td>CA</td>\n",
       "      <td>NaN</td>\n",
       "      <td>NaN</td>\n",
       "      <td>Government</td>\n",
       "      <td>Eximbank</td>\n",
       "      <td>FA-sub</td>\n",
       "      <td>1.00</td>\n",
       "      <td>53</td>\n",
       "      <td>USD</td>\n",
       "      <td>53</td>\n",
       "      <td>NaN</td>\n",
       "      <td>Libor + 1.5</td>\n",
       "      <td>NaN</td>\n",
       "      <td>5.00</td>\n",
       "      <td>17</td>\n",
       "      <td>Benguela, 2 Institute of Technology Constructi...</td>\n",
       "    </tr>\n",
       "    <tr>\n",
       "      <th>...</th>\n",
       "      <td>...</td>\n",
       "      <td>...</td>\n",
       "      <td>...</td>\n",
       "      <td>...</td>\n",
       "      <td>...</td>\n",
       "      <td>...</td>\n",
       "      <td>...</td>\n",
       "      <td>...</td>\n",
       "      <td>...</td>\n",
       "      <td>...</td>\n",
       "      <td>...</td>\n",
       "      <td>...</td>\n",
       "      <td>...</td>\n",
       "      <td>...</td>\n",
       "      <td>...</td>\n",
       "      <td>...</td>\n",
       "      <td>...</td>\n",
       "      <td>...</td>\n",
       "      <td>...</td>\n",
       "    </tr>\n",
       "    <tr>\n",
       "      <th>1138</th>\n",
       "      <td>Signed</td>\n",
       "      <td>2016</td>\n",
       "      <td>Togo</td>\n",
       "      <td>WA</td>\n",
       "      <td>NaN</td>\n",
       "      <td>NaN</td>\n",
       "      <td>Government</td>\n",
       "      <td>Eximbank</td>\n",
       "      <td>CL</td>\n",
       "      <td>1.00</td>\n",
       "      <td>36000</td>\n",
       "      <td>XOF</td>\n",
       "      <td>57</td>\n",
       "      <td>NaN</td>\n",
       "      <td>NaN</td>\n",
       "      <td>NaN</td>\n",
       "      <td>NaN</td>\n",
       "      <td>NaN</td>\n",
       "      <td>Adjarala Dam 147MW Add-on Loan</td>\n",
       "    </tr>\n",
       "    <tr>\n",
       "      <th>1139</th>\n",
       "      <td>Completed</td>\n",
       "      <td>2016</td>\n",
       "      <td>Togo</td>\n",
       "      <td>WA</td>\n",
       "      <td>NaN</td>\n",
       "      <td>NaN</td>\n",
       "      <td>Government</td>\n",
       "      <td>CIDCA</td>\n",
       "      <td>ZIL</td>\n",
       "      <td>1.00</td>\n",
       "      <td>39000</td>\n",
       "      <td>XOF</td>\n",
       "      <td>62</td>\n",
       "      <td>0</td>\n",
       "      <td>NaN</td>\n",
       "      <td>NaN</td>\n",
       "      <td>NaN</td>\n",
       "      <td>NaN</td>\n",
       "      <td>Lome International Airport Taxiway and Corrido...</td>\n",
       "    </tr>\n",
       "    <tr>\n",
       "      <th>1140</th>\n",
       "      <td>Completed</td>\n",
       "      <td>2012</td>\n",
       "      <td>Togo</td>\n",
       "      <td>WA</td>\n",
       "      <td>NaN</td>\n",
       "      <td>NaN</td>\n",
       "      <td>Government</td>\n",
       "      <td>Eximbank</td>\n",
       "      <td>EBC</td>\n",
       "      <td>1.00</td>\n",
       "      <td>75</td>\n",
       "      <td>USD</td>\n",
       "      <td>75</td>\n",
       "      <td>NaN</td>\n",
       "      <td>NaN</td>\n",
       "      <td>NaN</td>\n",
       "      <td>NaN</td>\n",
       "      <td>NaN</td>\n",
       "      <td>New Lome International Airport (EBC portion, t...</td>\n",
       "    </tr>\n",
       "    <tr>\n",
       "      <th>1141</th>\n",
       "      <td>Completed</td>\n",
       "      <td>2016</td>\n",
       "      <td>Togo</td>\n",
       "      <td>WA</td>\n",
       "      <td>NaN</td>\n",
       "      <td>NaN</td>\n",
       "      <td>Government</td>\n",
       "      <td>Eximbank</td>\n",
       "      <td>Loan</td>\n",
       "      <td>1.00</td>\n",
       "      <td>32640</td>\n",
       "      <td>XOF</td>\n",
       "      <td>44</td>\n",
       "      <td>NaN</td>\n",
       "      <td>NaN</td>\n",
       "      <td>NaN</td>\n",
       "      <td>NaN</td>\n",
       "      <td>NaN</td>\n",
       "      <td>Niamtougou Airport Re-development</td>\n",
       "    </tr>\n",
       "    <tr>\n",
       "      <th>1142</th>\n",
       "      <td>Signed</td>\n",
       "      <td>2010</td>\n",
       "      <td>Togo</td>\n",
       "      <td>WA</td>\n",
       "      <td>NaN</td>\n",
       "      <td>NaN</td>\n",
       "      <td>Government</td>\n",
       "      <td>CIDCA</td>\n",
       "      <td>ZIL</td>\n",
       "      <td>1.00</td>\n",
       "      <td>30</td>\n",
       "      <td>CNY</td>\n",
       "      <td>5</td>\n",
       "      <td>NaN</td>\n",
       "      <td>NaN</td>\n",
       "      <td>NaN</td>\n",
       "      <td>NaN</td>\n",
       "      <td>NaN</td>\n",
       "      <td>Economic and Technical Cooperation Agreement</td>\n",
       "    </tr>\n",
       "  </tbody>\n",
       "</table>\n",
       "<p>1143 rows × 19 columns</p>\n",
       "</div>"
      ],
      "text/plain": [
       "         status  year country region  borrowerCode borrowerType  \\\n",
       "0     Completed  2002  Angola     CA           NaN          NaN   \n",
       "1        Signed  2003  Angola     CA           NaN          NaN   \n",
       "2     Completed  2005  Angola     CA           NaN          NaN   \n",
       "3     Completed  2005  Angola     CA           NaN          NaN   \n",
       "4     Completed  2005  Angola     CA           NaN          NaN   \n",
       "...         ...   ...     ...    ...           ...          ...   \n",
       "1138     Signed  2016    Togo     WA           NaN          NaN   \n",
       "1139  Completed  2016    Togo     WA           NaN          NaN   \n",
       "1140  Completed  2012    Togo     WA           NaN          NaN   \n",
       "1141  Completed  2016    Togo     WA           NaN          NaN   \n",
       "1142     Signed  2010    Togo     WA           NaN          NaN   \n",
       "\n",
       "     borrowerNotGouv financier financeType  group  reportedValue reportedUnit  \\\n",
       "0         Government     CIDCA         ZIL   1.00             50          CNY   \n",
       "1         Government     CIDCA         ZIL   1.00             11          USD   \n",
       "2         Government  Eximbank      FA-sub   1.00             41          USD   \n",
       "3         Government  Eximbank      FA-sub   1.00             15          USD   \n",
       "4         Government  Eximbank      FA-sub   1.00             53          USD   \n",
       "...              ...       ...         ...    ...            ...          ...   \n",
       "1138      Government  Eximbank          CL   1.00          36000          XOF   \n",
       "1139      Government     CIDCA         ZIL   1.00          39000          XOF   \n",
       "1140      Government  Eximbank         EBC   1.00             75          USD   \n",
       "1141      Government  Eximbank        Loan   1.00          32640          XOF   \n",
       "1142      Government     CIDCA         ZIL   1.00             30          CNY   \n",
       "\n",
       "      cleanUSD interestRate    liborRate  repayment  grace term  \\\n",
       "0            6            0          NaN        NaN    NaN  NaN   \n",
       "1           11            0          NaN        NaN    NaN  NaN   \n",
       "2           41          NaN  Libor + 1.5        NaN   5.00   17   \n",
       "3           15          NaN  Libor + 1.5        NaN   5.00   17   \n",
       "4           53          NaN  Libor + 1.5        NaN   5.00   17   \n",
       "...        ...          ...          ...        ...    ...  ...   \n",
       "1138        57          NaN          NaN        NaN    NaN  NaN   \n",
       "1139        62            0          NaN        NaN    NaN  NaN   \n",
       "1140        75          NaN          NaN        NaN    NaN  NaN   \n",
       "1141        44          NaN          NaN        NaN    NaN  NaN   \n",
       "1142         5          NaN          NaN        NaN    NaN  NaN   \n",
       "\n",
       "                                                purpose  \n",
       "0                                       Luanda Hospital  \n",
       "1                              Economic Housing Project  \n",
       "2     Andulo, Bié and Caála, Huambo, Construction of...  \n",
       "3          Quéssua, Malange, Agrarian Institute Rebuild  \n",
       "4     Benguela, 2 Institute of Technology Constructi...  \n",
       "...                                                 ...  \n",
       "1138                     Adjarala Dam 147MW Add-on Loan  \n",
       "1139  Lome International Airport Taxiway and Corrido...  \n",
       "1140  New Lome International Airport (EBC portion, t...  \n",
       "1141                  Niamtougou Airport Re-development  \n",
       "1142       Economic and Technical Cooperation Agreement  \n",
       "\n",
       "[1143 rows x 19 columns]"
      ]
     },
     "execution_count": 8,
     "metadata": {},
     "output_type": "execute_result"
    }
   ],
   "source": [
    "df"
   ]
  },
  {
   "cell_type": "markdown",
   "id": "9eb0ae1e",
   "metadata": {},
   "source": [
    "## What is the largest investment in the dataset?"
   ]
  },
  {
   "cell_type": "code",
   "execution_count": 67,
   "id": "61a3ba1a",
   "metadata": {},
   "outputs": [
    {
     "data": {
      "text/plain": [
       "purpose\n",
       "Sonangol Recapitalization                                         10000\n",
       "Sonangol Development                                               7500\n",
       "Caculo Cabaca Hydropower Project 2170MW and transmission lines     3700\n",
       "Kilamba Kiaxi New Town                                             2500\n",
       "Multisector                                                        2200\n",
       "Name: cleanUSD, dtype: int64"
      ]
     },
     "execution_count": 67,
     "metadata": {},
     "output_type": "execute_result"
    }
   ],
   "source": [
    "#To identify this, first step involves grouping by purpose of the loan.\n",
    "#Second, identifying the amount that went into it.\n",
    "\n",
    "df.groupby(by='purpose').cleanUSD.sum().sort_values(ascending=False).head()"
   ]
  },
  {
   "cell_type": "markdown",
   "id": "622c799c",
   "metadata": {},
   "source": [
    "## How many loans were used for hospitals?"
   ]
  },
  {
   "cell_type": "code",
   "execution_count": 13,
   "id": "fc920bde",
   "metadata": {},
   "outputs": [],
   "source": [
    "#df.purpose column provides a description of the column,\n",
    "#to search for hospital, we look through that column using .str.contains\n",
    "#then i use the results from the search to create a df\n",
    "hospital = df[df.purpose.str.contains(\"Hospital\")]"
   ]
  },
  {
   "cell_type": "code",
   "execution_count": 69,
   "id": "1abc763a",
   "metadata": {},
   "outputs": [
    {
     "data": {
      "text/plain": [
       "23"
      ]
     },
     "execution_count": 69,
     "metadata": {},
     "output_type": "execute_result"
    }
   ],
   "source": [
    "#Len enables me to get the length of the hospital df\n",
    "#This shows the number of times hospital had appeared in the loan description\n",
    "len(hospital.purpose)"
   ]
  },
  {
   "cell_type": "markdown",
   "id": "3255e30e",
   "metadata": {},
   "source": [
    "## Who was the most common loan financier?"
   ]
  },
  {
   "cell_type": "code",
   "execution_count": 17,
   "id": "447b2731",
   "metadata": {},
   "outputs": [
    {
     "data": {
      "text/plain": [
       "Eximbank    628\n",
       "CIDCA       202\n",
       "CDB         161\n",
       "ICBC         34\n",
       "BoC          21\n",
       "Name: financier, dtype: int64"
      ]
     },
     "execution_count": 17,
     "metadata": {},
     "output_type": "execute_result"
    }
   ],
   "source": [
    "#Value counts on the financier column shows up the lenders\n",
    "df.financier.value_counts().head()"
   ]
  },
  {
   "cell_type": "markdown",
   "id": "345e9348",
   "metadata": {},
   "source": [
    "## Who was the most common loan financier for loans going to Ghana?"
   ]
  },
  {
   "cell_type": "code",
   "execution_count": 18,
   "id": "203f24a0",
   "metadata": {},
   "outputs": [
    {
     "data": {
      "text/plain": [
       "Eximbank                                                  18\n",
       "China International Water & Electric Corporation (CWE)     5\n",
       "CIDCA                                                      5\n",
       "CDB                                                        4\n",
       "ICBC                                                       4\n",
       "Name: financier, dtype: int64"
      ]
     },
     "execution_count": 18,
     "metadata": {},
     "output_type": "execute_result"
    }
   ],
   "source": [
    "#First, identify where country is Ghana\n",
    "#Look at the financiers involved\n",
    "#Count them and look at the first five\n",
    "\n",
    "df[df.country == 'Ghana'].financier.value_counts().head()"
   ]
  },
  {
   "cell_type": "markdown",
   "id": "81efd863",
   "metadata": {},
   "source": [
    "## Who were the top 3 most common loan financiers in each region?"
   ]
  },
  {
   "cell_type": "code",
   "execution_count": 20,
   "id": "1db50622",
   "metadata": {},
   "outputs": [
    {
     "data": {
      "text/plain": [
       "region  financier\n",
       "CA      Eximbank     255\n",
       "        CDB          118\n",
       "        CIDCA         50\n",
       "EA      Eximbank     190\n",
       "        CIDCA         83\n",
       "        CDB           15\n",
       "RG      CDB            8\n",
       "        Eximbank       7\n",
       "        PBC            2\n",
       "SA      Eximbank      17\n",
       "        CIDCA         10\n",
       "        CDB            8\n",
       "WA      Eximbank     111\n",
       "        CIDCA         40\n",
       "        ICBC           7\n",
       "Name: financier, dtype: int64"
      ]
     },
     "execution_count": 20,
     "metadata": {},
     "output_type": "execute_result"
    }
   ],
   "source": [
    "#First group by region\n",
    "#Second look at the financiers involved\n",
    "#Pull out the largest 3 financiers in each region\n",
    "\n",
    "df.groupby('region').financier.value_counts() \\\n",
    "    .groupby(level=0, group_keys=False) \\\n",
    "    .nlargest(3)"
   ]
  },
  {
   "cell_type": "markdown",
   "id": "299f76bb",
   "metadata": {},
   "source": [
    "## What country received the highest total investment?"
   ]
  },
  {
   "cell_type": "code",
   "execution_count": 26,
   "id": "de61a961",
   "metadata": {},
   "outputs": [
    {
     "data": {
      "text/plain": [
       "country\n",
       "Angola      42650\n",
       "Ethiopia    13729\n",
       "Zambia       9884\n",
       "Kenya        8999\n",
       "Nigeria      7204\n",
       "Name: cleanUSD, dtype: int64"
      ]
     },
     "execution_count": 26,
     "metadata": {},
     "output_type": "execute_result"
    }
   ],
   "source": [
    "#First, group by country\n",
    "#Look at the loan amounts ie CleanUSD\n",
    "#Sort the values and choose top five\n",
    "df.groupby(by='country').cleanUSD.sum().sort_values(ascending=False).head()"
   ]
  },
  {
   "cell_type": "markdown",
   "id": "ed7bcc97",
   "metadata": {},
   "source": [
    "## Plot a line graph of the number of loans each year.\n",
    "\n",
    "It's okay if your x axis looks awful, but make sure it's ordered correctly."
   ]
  },
  {
   "cell_type": "code",
   "execution_count": 76,
   "id": "b17c6564",
   "metadata": {},
   "outputs": [
    {
     "data": {
      "text/plain": [
       "<AxesSubplot:>"
      ]
     },
     "execution_count": 76,
     "metadata": {},
     "output_type": "execute_result"
    },
    {
     "data": {
      "image/png": "[encoded data removed]",
      "text/plain": [
       "<Figure size 432x288 with 1 Axes>"
      ]
     },
     "metadata": {
      "needs_background": "light"
     },
     "output_type": "display_data"
    }
   ],
   "source": [
    "df.year.value_counts().plot()"
   ]
  },
  {
   "cell_type": "markdown",
   "id": "50804083",
   "metadata": {},
   "source": [
    "## Plot a line graph of the total amount (in USD) of the loans per year.\n",
    "\n",
    "It's okay if your x axis looks awful, but make sure it's ordered correctly."
   ]
  },
  {
   "cell_type": "code",
   "execution_count": 30,
   "id": "21c4aaf5",
   "metadata": {},
   "outputs": [],
   "source": [
    "df.year = pd.to_datetime(df.year, errors='coerce', format=\"%Y\")"
   ]
  },
  {
   "cell_type": "code",
   "execution_count": 33,
   "id": "6e043401",
   "metadata": {},
   "outputs": [
    {
     "data": {
      "text/plain": [
       "<AxesSubplot:xlabel='year'>"
      ]
     },
     "execution_count": 33,
     "metadata": {},
     "output_type": "execute_result"
    },
    {
     "data": {
      "image/png": "[encoded data removed]",
      "text/plain": [
       "<Figure size 432x288 with 1 Axes>"
      ]
     },
     "metadata": {
      "needs_background": "light"
     },
     "output_type": "display_data"
    }
   ],
   "source": [
    "df.resample('Y', on='year').cleanUSD.sum().plot()"
   ]
  },
  {
   "cell_type": "markdown",
   "id": "c9fef052",
   "metadata": {},
   "source": [
    "## For each region, what are the top three countries in terms of total number of loans?"
   ]
  },
  {
   "cell_type": "code",
   "execution_count": 34,
   "id": "88a69d95",
   "metadata": {},
   "outputs": [
    {
     "data": {
      "text/plain": [
       "region  country                     \n",
       "CA      Angola                          254\n",
       "        Democratic Republic of Congo     55\n",
       "        Cameroon                         45\n",
       "EA      Zambia                           78\n",
       "        Ethiopia                         52\n",
       "        Kenya                            42\n",
       "RG      Regional                         18\n",
       "SA      South Africa                     21\n",
       "        Botswana                         13\n",
       "        Namibia                          12\n",
       "WA      Ghana                            42\n",
       "        Cote d'Ivoire                    24\n",
       "        Nigeria                          19\n",
       "Name: country, dtype: int64"
      ]
     },
     "execution_count": 34,
     "metadata": {},
     "output_type": "execute_result"
    }
   ],
   "source": [
    "#First group by region\n",
    "#Second look at the countries involved\n",
    "#Pull out the top 3 countries in each region\n",
    "\n",
    "df.groupby('region').country.value_counts() \\\n",
    "    .groupby(level=0, group_keys=False) \\\n",
    "    .nlargest(3)"
   ]
  },
  {
   "cell_type": "markdown",
   "id": "3e3dfe1b",
   "metadata": {},
   "source": [
    "## Make a dataset of loans that did not go directly to governments, save it as `non-govt.csv`"
   ]
  },
  {
   "cell_type": "code",
   "execution_count": 59,
   "id": "2d152eff",
   "metadata": {},
   "outputs": [
    {
     "data": {
      "text/plain": [
       "Government                                                     1017\n",
       "Zambia Electricity Supply Corporation Limited (ZESCO) (SOE)      13\n",
       "South African Reserve Bank (SARB) (SOE)                          11\n",
       "Sudan National Electricity Corporation (NEC) (SOE)                7\n",
       "Transnet SOC Ltd (Transnet) (SOE)                                 6\n",
       "Name: borrowerNotGouv, dtype: int64"
      ]
     },
     "execution_count": 59,
     "metadata": {},
     "output_type": "execute_result"
    }
   ],
   "source": [
    "df.borrowerNotGouv.value_counts().head()\n",
    "\n",
    "# df[df.borrowerNotGouv == 'Government'].value_counts()"
   ]
  },
  {
   "cell_type": "code",
   "execution_count": 53,
   "id": "c0dd0563",
   "metadata": {},
   "outputs": [
    {
     "data": {
      "text/plain": [
       "Index(['status', 'year', 'country', 'region', 'borrowerCode', 'borrowerType',\n",
       "       'borrowerNotGouv', 'financier', 'financeType', 'group', 'reportedValue',\n",
       "       'reportedUnit', 'cleanUSD', 'interestRate', 'liborRate', 'repayment',\n",
       "       'grace', 'term', 'purpose'],\n",
       "      dtype='object')"
      ]
     },
     "execution_count": 53,
     "metadata": {},
     "output_type": "execute_result"
    }
   ],
   "source": [
    "borrowerNotGouv"
   ]
  },
  {
   "cell_type": "code",
   "execution_count": null,
   "id": "aadffa53",
   "metadata": {},
   "outputs": [],
   "source": []
  }
 ],
 "metadata": {
  "kernelspec": {
   "display_name": "Python 3 (ipykernel)",
   "language": "python",
   "name": "python3"
  },
  "language_info": {
   "codemirror_mode": {
    "name": "ipython",
    "version": 3
   },
   "file_extension": ".py",
   "mimetype": "text/x-python",
   "name": "python",
   "nbconvert_exporter": "python",
   "pygments_lexer": "ipython3",
   "version": "3.9.7"
  }
 },
 "nbformat": 4,
 "nbformat_minor": 5
}
