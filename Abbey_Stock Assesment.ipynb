{
 "cells": [
  {
   "cell_type": "markdown",
   "id": "5f497065",
   "metadata": {},
   "source": [
    "# COVID Vaccinations\n",
    "\n",
    "* **Data:** `StockX-Data-Contest-2019-3.xlsx`\n",
    "* **Description:** You can buy shoes and resell them later online for more money. Wild world, right? This data is from [StockX](https://stockx.com/)\n",
    "* **Source:** https://stockx.com/news/the-2019-data-contest/\n",
    "* **Columns of interest:**\n",
    "    * `Order Date` is the resale order was completed\n",
    "    * `Brand` is the name of the company producing the shoe\n",
    "    * `Sneaker Name` is the name of the shoe itself\n",
    "    * `Sale Price` is how much the shoe went for at resale\n",
    "    * `Retail Price` is how much the shoe originally cost\n",
    "    * `Release Date` is when the shoe was originally released\n",
    "    * `Shoe Size` is the size of the shoe being sold\n",
    "    * `Buyer Region` is where the shoe's buyer is located\n",
    "\n",
    "This dataset is topical due to the passing of [Virgil Abloh, founder of Off-White](https://www.newyorker.com/culture/postscript/the-remarkable-life-of-virgil-abloh)."
   ]
  },
  {
   "cell_type": "markdown",
   "id": "a34e18b0",
   "metadata": {},
   "source": [
    "## Read in your data\n",
    "\n",
    "This Excel file has multiple sheets in it! You'll need to specify the sheet when you read it in with `sheet_name='Raw Data'`."
   ]
  },
  {
   "cell_type": "code",
   "execution_count": 78,
   "id": "e77a0169",
   "metadata": {},
   "outputs": [],
   "source": [
    "import pandas as pd\n",
    "pd.set_option(\"display.max_columns\", None)\n",
    "pd.set_option(\"display.float_format\", '{:,.2f}'.format)"
   ]
  },
  {
   "cell_type": "code",
   "execution_count": 79,
   "id": "87a01610",
   "metadata": {},
   "outputs": [],
   "source": [
    "df = pd.read_excel(\"StockX-Data-Contest-2019-3.xlsx\", sheet_name='Raw Data')"
   ]
  },
  {
   "cell_type": "code",
   "execution_count": 80,
   "id": "1ab4c955",
   "metadata": {},
   "outputs": [],
   "source": [
    "#Here, I decided to replace all the spaces in the names of the columns with underscores to make it for easier handling\n",
    "df.columns = df.columns.str.lower().str.replace(\" \", \"_\")"
   ]
  },
  {
   "cell_type": "markdown",
   "id": "64b9e32d",
   "metadata": {},
   "source": [
    "## What brand had more sales?\n",
    "\n",
    "Yes, there are only two of them."
   ]
  },
  {
   "cell_type": "code",
   "execution_count": 81,
   "id": "4586bb21",
   "metadata": {},
   "outputs": [
    {
     "data": {
      "text/plain": [
       " Yeezy       72162\n",
       "Off-White    27794\n",
       "Name: brand, dtype: int64"
      ]
     },
     "execution_count": 81,
     "metadata": {},
     "output_type": "execute_result"
    }
   ],
   "source": [
    "df.brand.value_counts()"
   ]
  },
  {
   "cell_type": "markdown",
   "id": "96608e5f",
   "metadata": {},
   "source": [
    "## What's the most common shoe size sold?\n",
    "\n",
    "I'd like you to write a sentence like `Size ____ is the most common shoe size sold, capturing ___ percent of the market.`"
   ]
  },
  {
   "cell_type": "code",
   "execution_count": 154,
   "id": "7ec30863",
   "metadata": {},
   "outputs": [
    {
     "data": {
      "text/plain": [
       "10.00    11093\n",
       "9.00      9706\n",
       "11.00     9251\n",
       "10.50     8784\n",
       "9.50      8685\n",
       "Name: shoe_size, dtype: int64"
      ]
     },
     "execution_count": 154,
     "metadata": {},
     "output_type": "execute_result"
    }
   ],
   "source": [
    "#This counts the shoe sizes as listed under the shoe size column\n",
    "df.shoe_size.value_counts().head()"
   ]
  },
  {
   "cell_type": "code",
   "execution_count": 155,
   "id": "58a33250",
   "metadata": {},
   "outputs": [],
   "source": [
    "#df[df.shoe_size == 10.0]"
   ]
  },
  {
   "cell_type": "markdown",
   "id": "bc5be5ba",
   "metadata": {},
   "source": [
    "## What was the median difference between the sale price and the retail price?"
   ]
  },
  {
   "cell_type": "code",
   "execution_count": 84,
   "id": "1afcd0e8",
   "metadata": {},
   "outputs": [
    {
     "data": {
      "text/plain": [
       "370.0"
      ]
     },
     "execution_count": 84,
     "metadata": {},
     "output_type": "execute_result"
    }
   ],
   "source": [
    "#Breaking down to find the median on the sale price column\n",
    "df.sale_price.median()"
   ]
  },
  {
   "cell_type": "code",
   "execution_count": 85,
   "id": "bc18f4e4",
   "metadata": {},
   "outputs": [
    {
     "data": {
      "text/plain": [
       "220.0"
      ]
     },
     "execution_count": 85,
     "metadata": {},
     "output_type": "execute_result"
    }
   ],
   "source": [
    "#Breaking down to find the median on the retail price column\n",
    "\n",
    "df.retail_price.median()"
   ]
  },
  {
   "cell_type": "code",
   "execution_count": 156,
   "id": "c75ba38b",
   "metadata": {},
   "outputs": [
    {
     "data": {
      "text/plain": [
       "150.0"
      ]
     },
     "execution_count": 156,
     "metadata": {},
     "output_type": "execute_result"
    }
   ],
   "source": [
    "#And here we look at the difference between the two\n",
    "df.sale_price.median() - df.retail_price.median()"
   ]
  },
  {
   "cell_type": "markdown",
   "id": "025edaed",
   "metadata": {},
   "source": [
    "## What were the total sales (in dollars) to South Dakota, New Mexico, and Vermont?"
   ]
  },
  {
   "cell_type": "code",
   "execution_count": 88,
   "id": "07d39264",
   "metadata": {},
   "outputs": [
    {
     "data": {
      "text/plain": [
       "21601.0"
      ]
     },
     "execution_count": 88,
     "metadata": {},
     "output_type": "execute_result"
    }
   ],
   "source": [
    "#First, we look at South Dakota data frame using the buyer region and then sum up sales in the dataframe.\n",
    "df[df.buyer_region == 'South Dakota'].sale_price.sum()"
   ]
  },
  {
   "cell_type": "code",
   "execution_count": 89,
   "id": "a88d7898",
   "metadata": {},
   "outputs": [
    {
     "data": {
      "text/plain": [
       "97794.0"
      ]
     },
     "execution_count": 89,
     "metadata": {},
     "output_type": "execute_result"
    }
   ],
   "source": [
    "#First, we look at New Mexico data frame using the buyer region and then sum up sales in the dataframe.\n",
    "\n",
    "df[df.buyer_region == 'New Mexico'].sale_price.sum()"
   ]
  },
  {
   "cell_type": "code",
   "execution_count": 90,
   "id": "25dfb9b1",
   "metadata": {},
   "outputs": [
    {
     "data": {
      "text/plain": [
       "38323.0"
      ]
     },
     "execution_count": 90,
     "metadata": {},
     "output_type": "execute_result"
    }
   ],
   "source": [
    "#First, we look at Vermont data frame using the buyer region and then sum up sales in the dataframe.\n",
    "df[df.buyer_region == 'Vermont'].sale_price.sum()"
   ]
  },
  {
   "cell_type": "markdown",
   "id": "2f971a8d",
   "metadata": {},
   "source": [
    "## What were the total sales (in dollars) of shoes sized 5, 6 and 7?"
   ]
  },
  {
   "cell_type": "code",
   "execution_count": 91,
   "id": "00363d4c",
   "metadata": {},
   "outputs": [
    {
     "data": {
      "text/plain": [
       "1379343.18"
      ]
     },
     "execution_count": 91,
     "metadata": {},
     "output_type": "execute_result"
    }
   ],
   "source": [
    "#Step 1 was to look at the shoe size and create a data frame for the respective size and take out the total sales.\n",
    "#Step 2 rounds it two decimal places.\n",
    "round(df[df.shoe_size == 5.0].sale_price.sum(),2)"
   ]
  },
  {
   "cell_type": "code",
   "execution_count": 92,
   "id": "5ca175ee",
   "metadata": {
    "scrolled": true
   },
   "outputs": [
    {
     "data": {
      "text/plain": [
       "1663940.37"
      ]
     },
     "execution_count": 92,
     "metadata": {},
     "output_type": "execute_result"
    }
   ],
   "source": [
    "#Step 1 was to look at the shoe size and create a data frame for the respective size and take out the total sales.\n",
    "#Step 2 rounds it two decimal places.\n",
    "\n",
    "round(df[df.shoe_size == 6.0].sale_price.sum(),2)"
   ]
  },
  {
   "cell_type": "code",
   "execution_count": 93,
   "id": "cc8467a9",
   "metadata": {},
   "outputs": [
    {
     "data": {
      "text/plain": [
       "1643196.17"
      ]
     },
     "execution_count": 93,
     "metadata": {},
     "output_type": "execute_result"
    }
   ],
   "source": [
    "#Step 1 was to look at the shoe size and create a data frame for the respective size and take out the total sales.\n",
    "#Step 2 rounds it two decimal places.\n",
    "round(df[df.shoe_size == 7.0].sale_price.sum(),2)"
   ]
  },
  {
   "cell_type": "markdown",
   "id": "f541836c",
   "metadata": {},
   "source": [
    "## What sneakers sold, on average, for the highest sale price?"
   ]
  },
  {
   "cell_type": "code",
   "execution_count": 158,
   "id": "0a639adc",
   "metadata": {},
   "outputs": [
    {
     "data": {
      "text/plain": [
       "sneaker_name\n",
       "Air-Jordan-1-Retro-High-Off-White-White     1,750.00\n",
       "Air-Jordan-1-Retro-High-Off-White-Chicago   1,700.00\n",
       "Adidas-Yeezy-Boost-350-Low-Turtledove       1,500.00\n",
       "Nike-Air-Presto-Off-White                   1,190.00\n",
       "Adidas-Yeezy-Boost-350-Low-Oxford-Tan       1,000.00\n",
       "Name: sale_price, dtype: float64"
      ]
     },
     "execution_count": 158,
     "metadata": {},
     "output_type": "execute_result"
    }
   ],
   "source": [
    "#Step 1, Groupby Sneaker Name\n",
    "#Step 2, Look at the median sale price \n",
    "#Step 3, sort values using ascending = False to get the highest sale price\n",
    "#Step 4, use head() to identify the top 5\n",
    "df.groupby(by='sneaker_name').sale_price.median().sort_values(ascending = False).head()"
   ]
  },
  {
   "cell_type": "markdown",
   "id": "5f640f47",
   "metadata": {},
   "source": [
    "## How many shoes in the dataset were produced by Nike?\n",
    "\n",
    "A sneaker with either 'Nike' or 'Jordan' in the name is going to be produced by Nike. "
   ]
  },
  {
   "cell_type": "code",
   "execution_count": 139,
   "id": "14d08a1a",
   "metadata": {},
   "outputs": [
    {
     "data": {
      "text/plain": [
       "22091"
      ]
     },
     "execution_count": 139,
     "metadata": {},
     "output_type": "execute_result"
    }
   ],
   "source": [
    "#Step 1, use .str contains to identify Nike or Jordan under sneaker name column.\n",
    "#Step 2, create a data frame from the results and value_count how many times they appear\n",
    "#Step 3, Sum the data frame to know how many shoes were from NIke\n",
    "\n",
    "nike = df[df.sneaker_name.str.contains(\"Nike\",\"Jordan\")]\n",
    "nike.sneaker_name.value_counts().sum()"
   ]
  },
  {
   "cell_type": "markdown",
   "id": "6e50058c",
   "metadata": {},
   "source": [
    "## What are the top 3 months for buying shoes? (This is order date, not release date)\n",
    "\n",
    "People like to buy shoes for Christmas, or with money they received during Christmas. "
   ]
  },
  {
   "cell_type": "code",
   "execution_count": 166,
   "id": "203a4f1a",
   "metadata": {},
   "outputs": [],
   "source": [
    "#Create a new column called month and define it using the order_date datetime to pullout the month\n",
    "#Then count the number of times each month appears\n",
    "\n",
    "df['month'] = pd.to_datetime(df.order_date, errors='coerce', format=\"%Y%m%d\").dt.strftime('%B')\n"
   ]
  },
  {
   "cell_type": "code",
   "execution_count": 167,
   "id": "d40cfed2",
   "metadata": {},
   "outputs": [
    {
     "data": {
      "text/plain": [
       "December    22292\n",
       "November    15489\n",
       "January     14511\n",
       "February     7774\n",
       "July         7434\n",
       "Name: month, dtype: int64"
      ]
     },
     "execution_count": 167,
     "metadata": {},
     "output_type": "execute_result"
    }
   ],
   "source": [
    "df.month.value_counts().head()"
   ]
  },
  {
   "cell_type": "markdown",
   "id": "145ab20a",
   "metadata": {},
   "source": [
    "## What month had the most total money spent on the shoes in this dataset?\n",
    "\n",
    "Not super-month, but rather instead something like May 2017. And If you get weird decimals like `5,068,067.6894`, don't worry, the data is just a little dirty."
   ]
  },
  {
   "cell_type": "code",
   "execution_count": 173,
   "id": "de14f361",
   "metadata": {
    "scrolled": true
   },
   "outputs": [
    {
     "data": {
      "text/plain": [
       "order_date\n",
       "2018-12-31   5,068,067.69\n",
       "2019-01-31   4,029,846.26\n",
       "2018-11-30   3,785,401.29\n",
       "2017-12-31   3,211,053.00\n",
       "2018-08-31   3,162,458.00\n",
       "Name: sale_price, dtype: float64"
      ]
     },
     "execution_count": 173,
     "metadata": {},
     "output_type": "execute_result"
    }
   ],
   "source": [
    "#Step 1, resample using month on order date.\n",
    "#Look at the sale price and sum it\n",
    "#Order the values by the highest amount\n",
    "#Pick the head\n",
    "\n",
    "df.resample('M', on='order_date').sale_price.sum().sort_values(ascending=False).head()"
   ]
  },
  {
   "cell_type": "code",
   "execution_count": null,
   "id": "089dba50",
   "metadata": {},
   "outputs": [],
   "source": []
  }
 ],
 "metadata": {
  "kernelspec": {
   "display_name": "Python 3 (ipykernel)",
   "language": "python",
   "name": "python3"
  },
  "language_info": {
   "codemirror_mode": {
    "name": "ipython",
    "version": 3
   },
   "file_extension": ".py",
   "mimetype": "text/x-python",
   "name": "python",
   "nbconvert_exporter": "python",
   "pygments_lexer": "ipython3",
   "version": "3.9.7"
  }
 },
 "nbformat": 4,
 "nbformat_minor": 5
}
