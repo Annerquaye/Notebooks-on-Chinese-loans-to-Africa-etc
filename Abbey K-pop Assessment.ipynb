{
 "cells": [
  {
   "cell_type": "markdown",
   "id": "410bd493",
   "metadata": {},
   "source": [
    "# K-pop Idols\n",
    "\n",
    "* **Data:** `kpop_idols.csv`\n",
    "* **Description:** K-pop is Korean pop music. It's popular the world over, especially when their fans take over Twitter hashtags. Idols are the individual musicians. Note that this dataset is not necessarily current k-pop idols, but includes people from the past, too (for example: group memberships might not be current).\n",
    "* **Source:** https://www.kaggle.com/kimjihoo/kpopdb\n",
    "* **Columns of interest:**\n",
    "    * These are pretty self-explanatory. Just know \"Birthplace\" is the city they were born in, while \"Country\" is the country."
   ]
  },
  {
   "cell_type": "markdown",
   "id": "341df782",
   "metadata": {},
   "source": [
    "## Read in your data"
   ]
  },
  {
   "cell_type": "code",
   "execution_count": 86,
   "id": "79e73513",
   "metadata": {},
   "outputs": [],
   "source": [
    "import pandas as pd\n",
    "\n",
    "df = pd.read_csv(\"kpop_idols.csv\")\n",
    "pd.set_option(\"display.max_columns\", None)\n",
    "pd.set_option(\"display.float_format\", '{:,}'.format)\n",
    "\n",
    "# df.head()"
   ]
  },
  {
   "cell_type": "code",
   "execution_count": 87,
   "id": "406d2aea",
   "metadata": {},
   "outputs": [],
   "source": [
    "df.columns = df.columns.str.lower().str.replace(\" \", \"_\")"
   ]
  },
  {
   "cell_type": "markdown",
   "id": "b351e32a",
   "metadata": {},
   "source": [
    "## What is the percentage of male vs female kpop idols?"
   ]
  },
  {
   "cell_type": "code",
   "execution_count": 88,
   "id": "b9117b1d",
   "metadata": {},
   "outputs": [
    {
     "data": {
      "text/plain": [
       "M     51.6030534351145\n",
       "F   48.396946564885496\n",
       "Name: gender, dtype: float64"
      ]
     },
     "execution_count": 88,
     "metadata": {},
     "output_type": "execute_result"
    }
   ],
   "source": [
    "#This looks at the percentage of male vs female under the gender column\n",
    "df.gender.value_counts(normalize=True)*100"
   ]
  },
  {
   "cell_type": "markdown",
   "id": "b8483eb3",
   "metadata": {},
   "source": [
    "## Not all idols are born in South Korea: make a horizontal bar plot of the top five countries they're from, with the longest bar at the top."
   ]
  },
  {
   "cell_type": "code",
   "execution_count": 89,
   "id": "2bac0609",
   "metadata": {},
   "outputs": [
    {
     "data": {
      "text/plain": [
       "<AxesSubplot:>"
      ]
     },
     "execution_count": 89,
     "metadata": {},
     "output_type": "execute_result"
    },
    {
     "data": {
      "image/png": "[encoded data removed]",
      "text/plain": [
       "<Figure size 432x288 with 1 Axes>"
      ]
     },
     "metadata": {
      "needs_background": "light"
     },
     "output_type": "display_data"
    }
   ],
   "source": [
    "#First step was to grab everything in the country column and show the value_counts\n",
    "#Use the sort_values to order it from biggest to lowes\n",
    "#Plot by kind = 'barh' plots it horizontal bar graphs\n",
    "\n",
    "df.country.value_counts().head(5).sort_values().plot(kind='barh')"
   ]
  },
  {
   "cell_type": "markdown",
   "id": "954f90d9",
   "metadata": {},
   "source": [
    "## For **only** the idols born in China, what are the top 3 cities they were born in?"
   ]
  },
  {
   "cell_type": "code",
   "execution_count": 90,
   "id": "2b8c96c2",
   "metadata": {},
   "outputs": [
    {
     "data": {
      "text/plain": [
       "Shanghai    3\n",
       "Wuhan       2\n",
       "Qingdao     2\n",
       "Name: birthplace, dtype: int64"
      ]
     },
     "execution_count": 90,
     "metadata": {},
     "output_type": "execute_result"
    }
   ],
   "source": [
    "#First step was to create a data frame where country is China\n",
    "#Then throw in birth place to bringout birth places in China.\n",
    "#Then value count it know the number of times each appears in the df\n",
    "\n",
    "df[df.country == 'China'].birthplace.value_counts().head(3)"
   ]
  },
  {
   "cell_type": "markdown",
   "id": "ce730b08",
   "metadata": {},
   "source": [
    "## What group has the most members in our dataset?"
   ]
  },
  {
   "cell_type": "code",
   "execution_count": 91,
   "id": "d9a1b0d5",
   "metadata": {},
   "outputs": [
    {
     "data": {
      "text/plain": [
       "NCT             18\n",
       "14U             14\n",
       "Cosmic Girls    13\n",
       "Seventeen       13\n",
       "The Boyz        12\n",
       "Name: group, dtype: int64"
      ]
     },
     "execution_count": 91,
     "metadata": {},
     "output_type": "execute_result"
    }
   ],
   "source": [
    "#A simple value count of group column to show which apppears most\n",
    "df.group.value_counts().head()"
   ]
  },
  {
   "cell_type": "markdown",
   "id": "1dd4401d",
   "metadata": {},
   "source": [
    "## Save a CSV file of just the members of Cosmic Girls, calling it `cosmic-girls.csv`.\n",
    "\n",
    "Count just the `Group` column."
   ]
  },
  {
   "cell_type": "code",
   "execution_count": 118,
   "id": "42405325",
   "metadata": {},
   "outputs": [],
   "source": [
    "#First step was to create a df where group = Cosmic Girls\n",
    "#Next was to use .to_csv to save it to csv\n",
    "cosmic_girls = df[df.group == 'Cosmic Girls']"
   ]
  },
  {
   "cell_type": "code",
   "execution_count": 93,
   "id": "67462cc8",
   "metadata": {},
   "outputs": [],
   "source": [
    "cosmic_girls.to_csv(\"cosmic-girls.csv\", index=False)"
   ]
  },
  {
   "cell_type": "markdown",
   "id": "b7b25a17",
   "metadata": {},
   "source": [
    "## How many idols are members of `Super Junior-M`?\n",
    "\n",
    "Count both `Group` and `Other Group`."
   ]
  },
  {
   "cell_type": "code",
   "execution_count": 94,
   "id": "c6a0d618",
   "metadata": {},
   "outputs": [
    {
     "data": {
      "text/html": [
       "<div>\n",
       "<style scoped>\n",
       "    .dataframe tbody tr th:only-of-type {\n",
       "        vertical-align: middle;\n",
       "    }\n",
       "\n",
       "    .dataframe tbody tr th {\n",
       "        vertical-align: top;\n",
       "    }\n",
       "\n",
       "    .dataframe thead th {\n",
       "        text-align: right;\n",
       "    }\n",
       "</style>\n",
       "<table border=\"1\" class=\"dataframe\">\n",
       "  <thead>\n",
       "    <tr style=\"text-align: right;\">\n",
       "      <th></th>\n",
       "      <th>stage_name</th>\n",
       "      <th>full_name</th>\n",
       "      <th>korean_name</th>\n",
       "      <th>k._stage_name</th>\n",
       "      <th>date_of_birth</th>\n",
       "      <th>group</th>\n",
       "      <th>country</th>\n",
       "      <th>birthplace</th>\n",
       "      <th>other_group</th>\n",
       "      <th>gender</th>\n",
       "    </tr>\n",
       "  </thead>\n",
       "  <tbody>\n",
       "    <tr>\n",
       "      <th>179</th>\n",
       "      <td>Donghae</td>\n",
       "      <td>Lee Donghae</td>\n",
       "      <td>이동해</td>\n",
       "      <td>동해</td>\n",
       "      <td>1986-10-15</td>\n",
       "      <td>Super Junior</td>\n",
       "      <td>South Korea</td>\n",
       "      <td>Mokpo</td>\n",
       "      <td>Super Junior-M</td>\n",
       "      <td>M</td>\n",
       "    </tr>\n",
       "    <tr>\n",
       "      <th>221</th>\n",
       "      <td>Eunhyuk</td>\n",
       "      <td>Lee Hyukjae</td>\n",
       "      <td>이혁재</td>\n",
       "      <td>은혁</td>\n",
       "      <td>1986-04-04</td>\n",
       "      <td>Super Junior</td>\n",
       "      <td>South Korea</td>\n",
       "      <td>Ilsan</td>\n",
       "      <td>Super Junior-M</td>\n",
       "      <td>M</td>\n",
       "    </tr>\n",
       "    <tr>\n",
       "      <th>335</th>\n",
       "      <td>Henry</td>\n",
       "      <td>Henry Lau</td>\n",
       "      <td>헨리 라우</td>\n",
       "      <td>헨리</td>\n",
       "      <td>1989-10-11</td>\n",
       "      <td>Super Junior-M</td>\n",
       "      <td>Canada</td>\n",
       "      <td>Toronto</td>\n",
       "      <td>NaN</td>\n",
       "      <td>M</td>\n",
       "    </tr>\n",
       "    <tr>\n",
       "      <th>676</th>\n",
       "      <td>Kyuhyun</td>\n",
       "      <td>Cho Kyuhyun</td>\n",
       "      <td>조규현</td>\n",
       "      <td>규현</td>\n",
       "      <td>1988-02-03</td>\n",
       "      <td>Super Junior</td>\n",
       "      <td>South Korea</td>\n",
       "      <td>Seoul</td>\n",
       "      <td>Super Junior-M</td>\n",
       "      <td>M</td>\n",
       "    </tr>\n",
       "    <tr>\n",
       "      <th>876</th>\n",
       "      <td>Ryeowook</td>\n",
       "      <td>Kim Ryeowook</td>\n",
       "      <td>김려욱</td>\n",
       "      <td>려욱</td>\n",
       "      <td>1987-06-21</td>\n",
       "      <td>Super Junior</td>\n",
       "      <td>South Korea</td>\n",
       "      <td>Incheon</td>\n",
       "      <td>Super Junior-M</td>\n",
       "      <td>M</td>\n",
       "    </tr>\n",
       "    <tr>\n",
       "      <th>979</th>\n",
       "      <td>Siwon</td>\n",
       "      <td>Choi Siwon</td>\n",
       "      <td>최시원</td>\n",
       "      <td>시원</td>\n",
       "      <td>1986-04-07</td>\n",
       "      <td>Super Junior</td>\n",
       "      <td>South Korea</td>\n",
       "      <td>Seoul</td>\n",
       "      <td>Super Junior-M</td>\n",
       "      <td>M</td>\n",
       "    </tr>\n",
       "    <tr>\n",
       "      <th>1046</th>\n",
       "      <td>Sungmin</td>\n",
       "      <td>Lee Sungmin</td>\n",
       "      <td>이성민</td>\n",
       "      <td>성민</td>\n",
       "      <td>1986-01-01</td>\n",
       "      <td>Super Junior</td>\n",
       "      <td>South Korea</td>\n",
       "      <td>Gyeonggi</td>\n",
       "      <td>Super Junior-M</td>\n",
       "      <td>M</td>\n",
       "    </tr>\n",
       "    <tr>\n",
       "      <th>1303</th>\n",
       "      <td>Zhou Mi</td>\n",
       "      <td>Zhou Mi</td>\n",
       "      <td>조미</td>\n",
       "      <td>조미</td>\n",
       "      <td>1986-04-19</td>\n",
       "      <td>Super Junior-M</td>\n",
       "      <td>China</td>\n",
       "      <td>Wuhan</td>\n",
       "      <td>NaN</td>\n",
       "      <td>M</td>\n",
       "    </tr>\n",
       "  </tbody>\n",
       "</table>\n",
       "</div>"
      ],
      "text/plain": [
       "     stage_name     full_name korean_name k._stage_name date_of_birth  \\\n",
       "179     Donghae   Lee Donghae         이동해            동해    1986-10-15   \n",
       "221     Eunhyuk   Lee Hyukjae         이혁재            은혁    1986-04-04   \n",
       "335       Henry     Henry Lau       헨리 라우            헨리    1989-10-11   \n",
       "676     Kyuhyun   Cho Kyuhyun         조규현            규현    1988-02-03   \n",
       "876    Ryeowook  Kim Ryeowook         김려욱            려욱    1987-06-21   \n",
       "979       Siwon    Choi Siwon         최시원            시원    1986-04-07   \n",
       "1046    Sungmin   Lee Sungmin         이성민            성민    1986-01-01   \n",
       "1303    Zhou Mi       Zhou Mi          조미            조미    1986-04-19   \n",
       "\n",
       "               group      country birthplace     other_group gender  \n",
       "179     Super Junior  South Korea      Mokpo  Super Junior-M      M  \n",
       "221     Super Junior  South Korea      Ilsan  Super Junior-M      M  \n",
       "335   Super Junior-M       Canada    Toronto             NaN      M  \n",
       "676     Super Junior  South Korea      Seoul  Super Junior-M      M  \n",
       "876     Super Junior  South Korea    Incheon  Super Junior-M      M  \n",
       "979     Super Junior  South Korea      Seoul  Super Junior-M      M  \n",
       "1046    Super Junior  South Korea   Gyeonggi  Super Junior-M      M  \n",
       "1303  Super Junior-M        China      Wuhan             NaN      M  "
      ]
     },
     "execution_count": 94,
     "metadata": {},
     "output_type": "execute_result"
    }
   ],
   "source": [
    "df[(df.group == 'Super Junior-M') | (df.other_group == 'Super Junior-M')]"
   ]
  },
  {
   "cell_type": "markdown",
   "id": "21b296a7",
   "metadata": {},
   "source": [
    "## Create a new column called `age` that is the age of the idol.\n",
    "\n",
    "There are a few ways you can do this, but when calculating the age **just use the year**, you don't need to worry if they've had a birthday or not in 2021. For example, A.M. was born in 1996, so we would say she is **2021 - 1996 = 25 years old**."
   ]
  },
  {
   "cell_type": "code",
   "execution_count": 95,
   "id": "280b7ecd",
   "metadata": {},
   "outputs": [],
   "source": [
    "#Using datetime function to convert date_of_birth column to datetime\n",
    "df.date_of_birth = pd.to_datetime(df.date_of_birth)"
   ]
  },
  {
   "cell_type": "code",
   "execution_count": 110,
   "id": "68fe4509",
   "metadata": {},
   "outputs": [],
   "source": [
    "#Next was to create an age column which was defined as 2021 - the year extracted from the datetime of birth_year\n",
    "\n",
    "df['age'] = 2021 - df.date_of_birth.dt.year"
   ]
  },
  {
   "cell_type": "code",
   "execution_count": null,
   "id": "14325c58",
   "metadata": {},
   "outputs": [],
   "source": []
  },
  {
   "cell_type": "markdown",
   "id": "2eb3f339",
   "metadata": {},
   "source": [
    "## Who are the four youngest idols in our dataset?"
   ]
  },
  {
   "cell_type": "code",
   "execution_count": 111,
   "id": "a0f65ffa",
   "metadata": {},
   "outputs": [
    {
     "data": {
      "text/html": [
       "<div>\n",
       "<style scoped>\n",
       "    .dataframe tbody tr th:only-of-type {\n",
       "        vertical-align: middle;\n",
       "    }\n",
       "\n",
       "    .dataframe tbody tr th {\n",
       "        vertical-align: top;\n",
       "    }\n",
       "\n",
       "    .dataframe thead th {\n",
       "        text-align: right;\n",
       "    }\n",
       "</style>\n",
       "<table border=\"1\" class=\"dataframe\">\n",
       "  <thead>\n",
       "    <tr style=\"text-align: right;\">\n",
       "      <th></th>\n",
       "      <th>stage_name</th>\n",
       "      <th>full_name</th>\n",
       "      <th>korean_name</th>\n",
       "      <th>k._stage_name</th>\n",
       "      <th>date_of_birth</th>\n",
       "      <th>group</th>\n",
       "      <th>country</th>\n",
       "      <th>birthplace</th>\n",
       "      <th>other_group</th>\n",
       "      <th>gender</th>\n",
       "      <th>age</th>\n",
       "    </tr>\n",
       "  </thead>\n",
       "  <tbody>\n",
       "    <tr>\n",
       "      <th>142</th>\n",
       "      <td>Dahyun</td>\n",
       "      <td>Jeong Dahyun</td>\n",
       "      <td>정다현</td>\n",
       "      <td>다현</td>\n",
       "      <td>2005-04-29</td>\n",
       "      <td>Rocket Punch</td>\n",
       "      <td>South Korea</td>\n",
       "      <td>NaN</td>\n",
       "      <td>NaN</td>\n",
       "      <td>F</td>\n",
       "      <td>16</td>\n",
       "    </tr>\n",
       "    <tr>\n",
       "      <th>1307</th>\n",
       "      <td>Zoa</td>\n",
       "      <td>Cho Hyewon</td>\n",
       "      <td>조혜원</td>\n",
       "      <td>조아</td>\n",
       "      <td>2005-05-31</td>\n",
       "      <td>Weeekly</td>\n",
       "      <td>South Korea</td>\n",
       "      <td>NaN</td>\n",
       "      <td>NaN</td>\n",
       "      <td>F</td>\n",
       "      <td>16</td>\n",
       "    </tr>\n",
       "    <tr>\n",
       "      <th>1213</th>\n",
       "      <td>Yeseo</td>\n",
       "      <td>Kang Yeseo</td>\n",
       "      <td>강예서</td>\n",
       "      <td>예서</td>\n",
       "      <td>2005-08-22</td>\n",
       "      <td>Busters</td>\n",
       "      <td>South Korea</td>\n",
       "      <td>NaN</td>\n",
       "      <td>NaN</td>\n",
       "      <td>F</td>\n",
       "      <td>16</td>\n",
       "    </tr>\n",
       "    <tr>\n",
       "      <th>332</th>\n",
       "      <td>Heesun</td>\n",
       "      <td>Park Heesun</td>\n",
       "      <td>박희선</td>\n",
       "      <td>희선</td>\n",
       "      <td>2005-01-25</td>\n",
       "      <td>Pink Fantasy</td>\n",
       "      <td>South Korea</td>\n",
       "      <td>NaN</td>\n",
       "      <td>NaN</td>\n",
       "      <td>F</td>\n",
       "      <td>16</td>\n",
       "    </tr>\n",
       "  </tbody>\n",
       "</table>\n",
       "</div>"
      ],
      "text/plain": [
       "     stage_name     full_name korean_name k._stage_name date_of_birth  \\\n",
       "142      Dahyun  Jeong Dahyun         정다현            다현    2005-04-29   \n",
       "1307        Zoa    Cho Hyewon         조혜원            조아    2005-05-31   \n",
       "1213      Yeseo    Kang Yeseo         강예서            예서    2005-08-22   \n",
       "332      Heesun   Park Heesun         박희선            희선    2005-01-25   \n",
       "\n",
       "             group      country birthplace other_group gender  age  \n",
       "142   Rocket Punch  South Korea        NaN         NaN      F   16  \n",
       "1307       Weeekly  South Korea        NaN         NaN      F   16  \n",
       "1213       Busters  South Korea        NaN         NaN      F   16  \n",
       "332   Pink Fantasy  South Korea        NaN         NaN      F   16  "
      ]
     },
     "execution_count": 111,
     "metadata": {},
     "output_type": "execute_result"
    }
   ],
   "source": [
    "#This require sorting values using age\n",
    "df.sort_values(by='age').head(4)"
   ]
  },
  {
   "cell_type": "markdown",
   "id": "f0b9702d",
   "metadata": {},
   "source": [
    "## What is the median age of male vs female idols?"
   ]
  },
  {
   "cell_type": "code",
   "execution_count": 117,
   "id": "25f2916e",
   "metadata": {},
   "outputs": [
    {
     "data": {
      "text/plain": [
       "gender\n",
       "F   25.0\n",
       "M   26.0\n",
       "Name: age, dtype: float64"
      ]
     },
     "execution_count": 117,
     "metadata": {},
     "output_type": "execute_result"
    }
   ],
   "source": [
    "#Step 1, group by gender\n",
    "#Step 2, find out the the median age\n",
    "df.groupby(by='gender').age.median()"
   ]
  },
  {
   "cell_type": "code",
   "execution_count": null,
   "id": "83d8dd0b",
   "metadata": {},
   "outputs": [],
   "source": []
  }
 ],
 "metadata": {
  "kernelspec": {
   "display_name": "Python 3 (ipykernel)",
   "language": "python",
   "name": "python3"
  },
  "language_info": {
   "codemirror_mode": {
    "name": "ipython",
    "version": 3
   },
   "file_extension": ".py",
   "mimetype": "text/x-python",
   "name": "python",
   "nbconvert_exporter": "python",
   "pygments_lexer": "ipython3",
   "version": "3.9.7"
  }
 },
 "nbformat": 4,
 "nbformat_minor": 5
}
